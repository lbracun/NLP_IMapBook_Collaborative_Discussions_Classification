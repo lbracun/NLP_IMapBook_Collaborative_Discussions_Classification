{
 "cells": [
  {
   "cell_type": "code",
   "execution_count": 1,
   "metadata": {
    "collapsed": true
   },
   "outputs": [],
   "source": [
    "import json\n",
    "\n",
    "import pandas as pd\n",
    "import numpy as np\n",
    "\n",
    "import utils\n",
    "from tfidf_model import TFIDFModel\n",
    "from gensim.models import KeyedVectors\n",
    "from nltk.corpus import stopwords\n",
    "from tfidf_model import TFIDFModel\n",
    "import json\n",
    "from scipy import sparse"
   ]
  },
  {
   "cell_type": "code",
   "execution_count": 26,
   "metadata": {
    "collapsed": false,
    "pycharm": {
     "name": "#%%\n"
    }
   },
   "outputs": [],
   "source": [
    "custom_names = [\n",
    "    utils.COL_BOOK_SIMILARITY,\n",
    "    utils.COL_CONTAINS_EMOTICON,\n",
    "    utils.COL_CONTAINS_LINK,\n",
    "    utils.COL_WORD_COUNT,\n",
    "    utils.COL_CHAR_COUNT,\n",
    "    utils.COL_UPPERCASE_COUNT,\n",
    "    utils.COL_QUESTION_COUNT,\n",
    "]"
   ]
  },
  {
   "cell_type": "code",
   "execution_count": 3,
   "outputs": [],
   "source": [
    "data_df, target_df = utils.load_discussions_data()"
   ],
   "metadata": {
    "collapsed": false,
    "pycharm": {
     "name": "#%%\n"
    }
   }
  },
  {
   "cell_type": "code",
   "execution_count": 8,
   "metadata": {
    "collapsed": false,
    "pycharm": {
     "name": "#%%\n"
    }
   },
   "outputs": [
    {
     "name": "stdout",
     "output_type": "stream",
     "text": [
      "{\n",
      "  \"TFIDFModel(custom_feature_names=['Book Similarity', 'Contains Emoticon',\\n                                 'Contains Link', 'Word Count', 'Char Count',\\n                                 'Uppercase Count'],\\n           max_iter=2500, regularization=0.15, solver='sag')\": {\n",
      "    \"fit_time\": 4.660197019577026,\n",
      "    \"score_time\": 0.11431044340133667,\n",
      "    \"test_accuracy\": 0.6955879034078086,\n",
      "    \"test_f1_macro\": 0.4613098165942646,\n",
      "    \"test_neg_log_loss\": -1.082594111621562\n",
      "  }\n",
      "}\n"
     ]
    }
   ],
   "source": [
    "for reg in [0.15]:\n",
    "    tfidf = TFIDFModel(max_iter=2500, regularization=reg, solver=\"sag\", custom_feature_names=custom_names)\n",
    "    evals = utils.evaluate_models([tfidf], data_df, target_df)\n",
    "    print(json.dumps(evals, indent=\"  \"))"
   ]
  },
  {
   "cell_type": "code",
   "execution_count": 27,
   "outputs": [
    {
     "data": {
      "text/plain": "TFIDFModel(custom_feature_names=['Book Similarity', 'Contains Emoticon',\n                                 'Contains Link', 'Word Count', 'Char Count',\n                                 'Uppercase Count', 'Question Words Count'],\n           max_iter=2500, regularization=0.15, solver='sag')"
     },
     "execution_count": 27,
     "metadata": {},
     "output_type": "execute_result"
    }
   ],
   "source": [
    "tfidf = TFIDFModel(max_iter=2500, regularization=reg, solver=\"sag\", custom_feature_names=custom_names)\n",
    "tfidf.fit(data_df, target_df)"
   ],
   "metadata": {
    "collapsed": false,
    "pycharm": {
     "name": "#%%\n"
    }
   }
  },
  {
   "cell_type": "code",
   "execution_count": 44,
   "outputs": [],
   "source": [
    "max_coefs = tfidf._log_reg.coef_.max(axis=0)[:len(custom_names)]\n",
    "best_class_idxs = tfidf._log_reg.coef_.argmax(axis=0)[:len(custom_names)]\n",
    "best_classes = tfidf._log_reg.classes_[best_class_idxs]\n",
    "custom_features_df = pd.DataFrame(list(zip(custom_names, max_coefs, best_classes)), columns=[\"Custom Feature\", \"Max Coefficient\", \"Predictive Class\"], )"
   ],
   "metadata": {
    "collapsed": false,
    "pycharm": {
     "name": "#%%\n"
    }
   }
  },
  {
   "cell_type": "code",
   "execution_count": 54,
   "outputs": [
    {
     "data": {
      "text/plain": "         Custom Feature  Max Coefficient         Predictive Class\n4            Char Count         3.032205       Content Discussion\n0       Book Similarity         2.560155       Content Discussion\n3            Word Count         1.202205  Assignment Instructions\n5       Uppercase Count         1.118973                 Greeting\n6  Question Words Count         1.096541         Content Question\n2         Contains Link         0.687510         Outside Material\n1     Contains Emoticon         0.485253      Emoticon/Non-verbal",
      "text/html": "<div>\n<style scoped>\n    .dataframe tbody tr th:only-of-type {\n        vertical-align: middle;\n    }\n\n    .dataframe tbody tr th {\n        vertical-align: top;\n    }\n\n    .dataframe thead th {\n        text-align: right;\n    }\n</style>\n<table border=\"1\" class=\"dataframe\">\n  <thead>\n    <tr style=\"text-align: right;\">\n      <th></th>\n      <th>Custom Feature</th>\n      <th>Max Coefficient</th>\n      <th>Predictive Class</th>\n    </tr>\n  </thead>\n  <tbody>\n    <tr>\n      <th>4</th>\n      <td>Char Count</td>\n      <td>3.032205</td>\n      <td>Content Discussion</td>\n    </tr>\n    <tr>\n      <th>0</th>\n      <td>Book Similarity</td>\n      <td>2.560155</td>\n      <td>Content Discussion</td>\n    </tr>\n    <tr>\n      <th>3</th>\n      <td>Word Count</td>\n      <td>1.202205</td>\n      <td>Assignment Instructions</td>\n    </tr>\n    <tr>\n      <th>5</th>\n      <td>Uppercase Count</td>\n      <td>1.118973</td>\n      <td>Greeting</td>\n    </tr>\n    <tr>\n      <th>6</th>\n      <td>Question Words Count</td>\n      <td>1.096541</td>\n      <td>Content Question</td>\n    </tr>\n    <tr>\n      <th>2</th>\n      <td>Contains Link</td>\n      <td>0.687510</td>\n      <td>Outside Material</td>\n    </tr>\n    <tr>\n      <th>1</th>\n      <td>Contains Emoticon</td>\n      <td>0.485253</td>\n      <td>Emoticon/Non-verbal</td>\n    </tr>\n  </tbody>\n</table>\n</div>"
     },
     "execution_count": 54,
     "metadata": {},
     "output_type": "execute_result"
    }
   ],
   "source": [
    "custom_features_df.sort_values(by=\"Max Coefficient\", ascending=False, inplace=True)\n",
    "custom_features_df"
   ],
   "metadata": {
    "collapsed": false,
    "pycharm": {
     "name": "#%%\n"
    }
   }
  },
  {
   "cell_type": "code",
   "execution_count": 55,
   "outputs": [
    {
     "data": {
      "text/plain": "'\\\\begin{tabular}{llrl}\\n\\\\toprule\\n{} &        Custom Feature &  Max Coefficient &         Predictive Class \\\\\\\\\\n\\\\midrule\\n4 &            Char Count &         3.032205 &       Content Discussion \\\\\\\\\\n0 &       Book Similarity &         2.560155 &       Content Discussion \\\\\\\\\\n3 &            Word Count &         1.202205 &  Assignment Instructions \\\\\\\\\\n5 &       Uppercase Count &         1.118973 &                 Greeting \\\\\\\\\\n6 &  Question Words Count &         1.096541 &         Content Question \\\\\\\\\\n2 &         Contains Link &         0.687510 &         Outside Material \\\\\\\\\\n1 &     Contains Emoticon &         0.485253 &      Emoticon/Non-verbal \\\\\\\\\\n\\\\bottomrule\\n\\\\end{tabular}\\n'"
     },
     "execution_count": 55,
     "metadata": {},
     "output_type": "execute_result"
    }
   ],
   "source": [
    "custom_features_df.to_latex()"
   ],
   "metadata": {
    "collapsed": false,
    "pycharm": {
     "name": "#%%\n"
    }
   }
  },
  {
   "cell_type": "code",
   "execution_count": null,
   "outputs": [],
   "source": [],
   "metadata": {
    "collapsed": false,
    "pycharm": {
     "name": "#%%\n"
    }
   }
  }
 ],
 "metadata": {
  "kernelspec": {
   "display_name": "Python 3",
   "language": "python",
   "name": "python3"
  },
  "language_info": {
   "codemirror_mode": {
    "name": "ipython",
    "version": 2
   },
   "file_extension": ".py",
   "mimetype": "text/x-python",
   "name": "python",
   "nbconvert_exporter": "python",
   "pygments_lexer": "ipython2",
   "version": "2.7.6"
  }
 },
 "nbformat": 4,
 "nbformat_minor": 0
}